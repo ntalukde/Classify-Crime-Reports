{
 "cells": [
  {
   "cell_type": "markdown",
   "metadata": {},
   "source": [
    "### Load packages"
   ]
  },
  {
   "cell_type": "code",
   "execution_count": null,
   "metadata": {
    "id": "wCVQCB3zu9J6"
   },
   "outputs": [],
   "source": [
    "import pandas as pd\n",
    "import numpy as np\n",
    "import string\n",
    "from collections import Counter\n",
    "from sklearn.model_selection import train_test_split\n",
    "import matplotlib.pyplot as plt\n",
    "import csv\n",
    "\n",
    "import nltk\n",
    "from nltk import word_tokenize\n",
    "from nltk.corpus import stopwords\n",
    "\n",
    "import tensorflow as tf\n",
    "from tensorflow.keras.preprocessing.text import Tokenizer\n",
    "from tensorflow.keras.preprocessing.sequence import pad_sequences\n",
    "from sklearn.preprocessing import LabelEncoder\n",
    "from sklearn.utils.class_weight import compute_class_weight"
   ]
  },
  {
   "cell_type": "code",
   "execution_count": null,
   "metadata": {
    "colab": {
     "base_uri": "https://localhost:8080/"
    },
    "id": "jlNvTV4suKtG",
    "outputId": "aeaf50d7-a2ab-4a20-f3d0-8701bc56854c"
   },
   "outputs": [
    {
     "name": "stdout",
     "output_type": "stream",
     "text": [
      "[nltk_data] Downloading package stopwords to /root/nltk_data...\n",
      "[nltk_data]   Package stopwords is already up-to-date!\n",
      "[nltk_data] Downloading package punkt to /root/nltk_data...\n",
      "[nltk_data]   Unzipping tokenizers/punkt.zip.\n"
     ]
    },
    {
     "data": {
      "text/plain": [
       "True"
      ]
     },
     "execution_count": 10,
     "metadata": {},
     "output_type": "execute_result"
    }
   ],
   "source": [
    "nltk.download('stopwords')\n",
    "nltk.download('punkt')"
   ]
  },
  {
   "cell_type": "markdown",
   "metadata": {},
   "source": [
    "### Set up hyperparameters"
   ]
  },
  {
   "cell_type": "code",
   "execution_count": null,
   "metadata": {
    "id": "AYTr_lKeQAn4"
   },
   "outputs": [],
   "source": [
    "embedding_dim = 50\n",
    "trunc_type ='post'\n",
    "padding_type ='post'\n",
    "oov_tok = \"<OOV>\"\n",
    "training_portion = .80\n",
    "num_epochs = 10"
   ]
  },
  {
   "cell_type": "markdown",
   "metadata": {},
   "source": [
    "### function definitions"
   ]
  },
  {
   "cell_type": "code",
   "execution_count": null,
   "metadata": {
    "id": "qRunCEi-RIqX"
   },
   "outputs": [],
   "source": [
    "def load_data(filename):\n",
    "    df = pd.read_csv(filename).fillna(\"None\")\n",
    "    text = df['NARRATIVE']\n",
    "    labels = df['CRIMETYPE']\n",
    "    softmax_layer = len(set(labels))\n",
    "    return list(text), list(labels), softmax_layer\n",
    "\n",
    "def generate_class_weights(class_series):\n",
    "    # Compute class weights with sklearn method\n",
    "    class_labels = np.unique(class_series)\n",
    "    class_weights = compute_class_weight(class_weight='balanced', classes=class_labels, y=class_series)\n",
    "\n",
    "    return dict(zip(class_labels, class_weights))\n",
    "\n",
    "def label_categorize(labels):\n",
    "    le = LabelEncoder()\n",
    "    le.fit(labels)\n",
    "    label_seq = le.transform(labels)\n",
    "\n",
    "    return label_seq\n",
    "\n",
    "def create_tokens(text):\n",
    "    token_list = []\n",
    "    stop_words = set(stopwords.words('english'))\n",
    "    for i in range(len(text)):\n",
    "        token_list.append(word_tokenize(text[i].lower()))\n",
    "        token_list[i] = [w for w in token_list[i] if not w in stop_words]\n",
    "\n",
    "    return token_list\n",
    "\n",
    "def Generate_Train_Validation(token_list, label_seq):\n",
    "    train_size = int(len(token_list) * training_portion)\n",
    "\n",
    "    train_seqs = token_list[:train_size]\n",
    "    validation_seqs = token_list[train_size:]\n",
    "\n",
    "    tokenizer = Tokenizer(oov_token=oov_tok)\n",
    "    tokenizer.fit_on_texts(train_seqs)\n",
    "    word_index = tokenizer.word_index\n",
    "    vocab_size = len(word_index) + 1\n",
    "\n",
    "    train_sequences = tokenizer.texts_to_sequences(train_seqs)\n",
    "    train_padded = pad_sequences(train_sequences, padding=padding_type)\n",
    "    max_length = len(train_padded[0])\n",
    "\n",
    "    validation_sequences = tokenizer.texts_to_sequences(validation_seqs)\n",
    "    validation_padded = pad_sequences(validation_sequences, padding=padding_type, maxlen=max_length)\n",
    "\n",
    "    output = []\n",
    "    for v in label_seq:\n",
    "        output.append([v])\n",
    "\n",
    "    train_label_seq = np.array(output[:train_size])\n",
    "    validation_label_seq = np.array(output[train_size:])\n",
    "\n",
    "    train_label_list = label_seq[:train_size]\n",
    "    class_weights = generate_class_weights(train_label_list)\n",
    "\n",
    "    return train_padded, train_label_seq, validation_padded, validation_label_seq, class_weights\n",
    "\n",
    "def decode_labels(encoded_predict_labels, le):\n",
    "    test_predictions = le.inverse_transform(encoded_predict_labels)\n",
    "    \n",
    "    return test_predictions\n",
    "\n",
    "def get_seq_ids(filename):\n",
    "    df = pd.read_csv(filename)\n",
    "    ids = df['id']\n",
    "    \n",
    "    return np.array(ids)\n",
    "\n",
    "def plot_graphs(history, string):\n",
    "    plt.plot(history.history[string])\n",
    "    plt.plot(history.history['val_'+string])\n",
    "    plt.xlabel(\"Epochs\")\n",
    "    plt.ylabel(string)\n",
    "    plt.legend([string, 'val_'+string])\n",
    "    plt.show()"
   ]
  },
  {
   "cell_type": "markdown",
   "metadata": {
    "id": "nYVCNGtEP6l4"
   },
   "source": [
    "### Generate embeddings of text data using tokenizer"
   ]
  },
  {
   "cell_type": "code",
   "execution_count": null,
   "metadata": {
    "colab": {
     "base_uri": "https://localhost:8080/"
    },
    "id": "2s5IIQgvsI99",
    "outputId": "44a3ad5d-58c5-4531-cfde-33844460c552"
   },
   "outputs": [
    {
     "name": "stdout",
     "output_type": "stream",
     "text": [
      "[['unk', 'susp', 'ent', 'vict', \"'s\", 'veh', 'unlocked', 'door', '&', 'removed', 'vict', \"'s\", 'prop', 'amplifier'], ['unk', 'susp', 'opened', 'side', 'window', 'gain', 'entry', 'susp', 'removed', 'prop', 'fled', 'unk', 'location'], ['none']]\n",
      "100000\n"
     ]
    }
   ],
   "source": [
    "filename = \"train.csv\"\n",
    "text, labels, softmax_layer = load_data(filename) \n",
    "label_seq = label_categorize(labels)\n",
    "token_list = create_tokens(text)\n",
    "print(token_list[0:3])\n",
    "print(len(token_list))"
   ]
  },
  {
   "cell_type": "markdown",
   "metadata": {},
   "source": [
    "### Train and validation split"
   ]
  },
  {
   "cell_type": "code",
   "execution_count": null,
   "metadata": {
    "id": "Y5VLeIk53XR_"
   },
   "outputs": [],
   "source": [
    "train_size = int(len(token_list) * training_portion)\n",
    "\n",
    "train_seqs = token_list[:train_size]\n",
    "train_labels = labels[:train_size]\n",
    "\n",
    "validation_seqs = token_list[train_size:]\n",
    "validation_labels = labels[train_size:]"
   ]
  },
  {
   "cell_type": "code",
   "execution_count": null,
   "metadata": {
    "colab": {
     "base_uri": "https://localhost:8080/"
    },
    "id": "IawbCQuOQHdY",
    "outputId": "e9dac756-35bc-40bc-d538-eeb4b2d6fff0"
   },
   "outputs": [
    {
     "name": "stdout",
     "output_type": "stream",
     "text": [
      "(100000,)\n",
      "Number of Unique label Ids: 2\n",
      "80000\n",
      "['unk', 'susp', 'ent', 'vict', \"'s\", 'veh', 'unlocked', 'door', '&', 'removed', 'vict', \"'s\", 'prop', 'amplifier']\n",
      "['unk', 'susp', 'opened', 'side', 'window', 'gain', 'entry', 'susp', 'removed', 'prop', 'fled', 'unk', 'location']\n",
      "['unk', 'susp', 'punched', 'lock', 'left', 'frnt', 'dirvers', 'door', 'gain', 'entry', 'took', 'prop', 'fled', 'loc']\n",
      "80000\n",
      "20000\n",
      "20000\n"
     ]
    },
    {
     "name": "stderr",
     "output_type": "stream",
     "text": [
      "/usr/local/lib/python3.7/dist-packages/ipykernel_launcher.py:1: VisibleDeprecationWarning: Creating an ndarray from ragged nested sequences (which is a list-or-tuple of lists-or-tuples-or ndarrays with different lengths or shapes) is deprecated. If you meant to do this, you must specify 'dtype=object' when creating the ndarray.\n",
      "  \"\"\"Entry point for launching an IPython kernel.\n"
     ]
    }
   ],
   "source": [
    "print(np.array(token_list).shape)\n",
    "\n",
    "print(\"Number of Unique label Ids:\", len(set(labels)))\n",
    "print(train_size)\n",
    "print(train_seqs[0])\n",
    "print(train_seqs[1])\n",
    "print(train_seqs[10])\n",
    "print(len(train_labels))\n",
    "print(len(validation_seqs))\n",
    "print(len(validation_labels))"
   ]
  },
  {
   "cell_type": "markdown",
   "metadata": {},
   "source": [
    "### Tokenize and padding train sequences"
   ]
  },
  {
   "cell_type": "code",
   "execution_count": null,
   "metadata": {
    "colab": {
     "base_uri": "https://localhost:8080/"
    },
    "id": "1BKJ4peOQK0n",
    "outputId": "d2dda7a8-9a7d-4d55-a623-033f0ca02a60"
   },
   "outputs": [
    {
     "name": "stdout",
     "output_type": "stream",
     "text": [
      "(80000, 34)\n",
      "14\n",
      "34\n",
      "13\n",
      "34\n",
      "14\n",
      "34\n"
     ]
    }
   ],
   "source": [
    "tokenizer = Tokenizer(oov_token=oov_tok)\n",
    "tokenizer.fit_on_texts(train_seqs)\n",
    "word_index = tokenizer.word_index\n",
    "\n",
    "vocab_size = len(word_index) + 1\n",
    "\n",
    "train_sequences = tokenizer.texts_to_sequences(train_seqs)\n",
    "train_padded = pad_sequences(train_sequences, padding=padding_type)\n",
    "\n",
    "max_length = len(train_padded[0])\n",
    "\n",
    "print(train_padded.shape)\n",
    "\n",
    "print(len(train_sequences[0]))\n",
    "print(len(train_padded[0]))\n",
    "\n",
    "print(len(train_sequences[1]))\n",
    "print(len(train_padded[1]))\n",
    "\n",
    "print(len(train_sequences[10]))\n",
    "print(len(train_padded[10]))"
   ]
  },
  {
   "cell_type": "markdown",
   "metadata": {},
   "source": [
    "### Tokenize and padding validation sequences"
   ]
  },
  {
   "cell_type": "code",
   "execution_count": null,
   "metadata": {
    "colab": {
     "base_uri": "https://localhost:8080/"
    },
    "id": "LX662236QNwG",
    "outputId": "44dd7101-c618-4277-bbdd-a6d41ed0258a"
   },
   "outputs": [
    {
     "name": "stdout",
     "output_type": "stream",
     "text": [
      "20000\n",
      "(20000, 34)\n"
     ]
    }
   ],
   "source": [
    "validation_sequences = tokenizer.texts_to_sequences(validation_seqs)\n",
    "validation_padded = pad_sequences(validation_sequences, padding=padding_type, maxlen=max_length)\n",
    "\n",
    "print(len(validation_sequences))\n",
    "print(validation_padded.shape)"
   ]
  },
  {
   "cell_type": "markdown",
   "metadata": {},
   "source": [
    "### encoding categorical labels and splitting into train and validation sets"
   ]
  },
  {
   "cell_type": "code",
   "execution_count": null,
   "metadata": {},
   "outputs": [],
   "source": [
    "le = LabelEncoder()\n",
    "le.fit(labels)\n",
    "label_seq = le.transform(labels)\n",
    "\n",
    "train_label_list = label_seq[:train_size]\n",
    "\n",
    "output = []\n",
    "for v in label_seq:\n",
    "    output.append([v])\n",
    "\n",
    "training_label_seq = np.array(output[:train_size])\n",
    "validation_label_seq = np.array(output[train_size:])"
   ]
  },
  {
   "cell_type": "markdown",
   "metadata": {},
   "source": [
    "### calculating class weights"
   ]
  },
  {
   "cell_type": "code",
   "execution_count": null,
   "metadata": {
    "colab": {
     "base_uri": "https://localhost:8080/"
    },
    "id": "Wac_bt6eB5xU",
    "outputId": "b22ec193-359b-407a-99ce-8ef6d000f8df"
   },
   "outputs": [
    {
     "name": "stdout",
     "output_type": "stream",
     "text": [
      "{0: 0.8170769073639056, 1: 1.2884522467386053}\n",
      "2\n"
     ]
    }
   ],
   "source": [
    "class_weights = generate_class_weights(train_label_list)\n",
    "print(class_weights)\n",
    "print(len(class_weights))"
   ]
  },
  {
   "cell_type": "markdown",
   "metadata": {},
   "source": [
    "### Model architecture "
   ]
  },
  {
   "cell_type": "code",
   "execution_count": null,
   "metadata": {
    "colab": {
     "base_uri": "https://localhost:8080/"
    },
    "id": "l_VFmct3OMNL",
    "outputId": "cb6de606-702e-42ab-d545-bc2ebf67844b"
   },
   "outputs": [
    {
     "name": "stdout",
     "output_type": "stream",
     "text": [
      "Model: \"sequential_2\"\n",
      "_________________________________________________________________\n",
      " Layer (type)                Output Shape              Param #   \n",
      "=================================================================\n",
      " embedding_2 (Embedding)     (None, 34, 50)            950500    \n",
      "                                                                 \n",
      " dropout_8 (Dropout)         (None, 34, 50)            0         \n",
      "                                                                 \n",
      " flatten_2 (Flatten)         (None, 1700)              0         \n",
      "                                                                 \n",
      " dense_8 (Dense)             (None, 100)               170100    \n",
      "                                                                 \n",
      " batch_normalization_6 (Batc  (None, 100)              400       \n",
      " hNormalization)                                                 \n",
      "                                                                 \n",
      " dropout_9 (Dropout)         (None, 100)               0         \n",
      "                                                                 \n",
      " dense_9 (Dense)             (None, 250)               25250     \n",
      "                                                                 \n",
      " batch_normalization_7 (Batc  (None, 250)              1000      \n",
      " hNormalization)                                                 \n",
      "                                                                 \n",
      " dropout_10 (Dropout)        (None, 250)               0         \n",
      "                                                                 \n",
      " dense_10 (Dense)            (None, 500)               125500    \n",
      "                                                                 \n",
      " batch_normalization_8 (Batc  (None, 500)              2000      \n",
      " hNormalization)                                                 \n",
      "                                                                 \n",
      " dropout_11 (Dropout)        (None, 500)               0         \n",
      "                                                                 \n",
      " dense_11 (Dense)            (None, 2)                 1002      \n",
      "                                                                 \n",
      "=================================================================\n",
      "Total params: 1,275,752\n",
      "Trainable params: 1,274,052\n",
      "Non-trainable params: 1,700\n",
      "_________________________________________________________________\n"
     ]
    }
   ],
   "source": [
    "model = tf.keras.Sequential([\n",
    "    tf.keras.layers.Embedding(vocab_size, embedding_dim, input_length=max_length),\n",
    "    tf.keras.layers.Dropout(0.2),\n",
    "    tf.keras.layers.Flatten(),\n",
    "    tf.keras.layers.Dense(100, activation='relu'),\n",
    "    tf.keras.layers.BatchNormalization(),\n",
    "    tf.keras.layers.Dropout(0.5),\n",
    "    tf.keras.layers.Dense(250, activation='relu'),\n",
    "    tf.keras.layers.BatchNormalization(),\n",
    "    tf.keras.layers.Dropout(0.25), \n",
    "    tf.keras.layers.Dense(500, activation='relu'),\n",
    "    tf.keras.layers.BatchNormalization(),\n",
    "    tf.keras.layers.Dropout(0.2),\n",
    "    tf.keras.layers.Dense(softmax_layer, activation='softmax')\n",
    "])\n",
    "\n",
    "callbacks = [\n",
    "        tf.keras.callbacks.ModelCheckpoint(\n",
    "        filepath=\"mymodel_{epoch}\", save_weights_only=True,\n",
    "        save_best_only = True, monitor = \"val_loss\", verbose =1,)]\n",
    "\n",
    "optimizer = tf.keras.optimizers.Adam(learning_rate=0.001)\n",
    "model.compile(loss='sparse_categorical_crossentropy', optimizer=optimizer, metrics=['accuracy'])\n",
    "model.summary()"
   ]
  },
  {
   "cell_type": "markdown",
   "metadata": {},
   "source": [
    "### model training"
   ]
  },
  {
   "cell_type": "code",
   "execution_count": null,
   "metadata": {
    "colab": {
     "base_uri": "https://localhost:8080/"
    },
    "id": "bobpatPTOMPy",
    "outputId": "222f86d6-127f-42ad-d9bd-04ee4bda32e8"
   },
   "outputs": [
    {
     "name": "stdout",
     "output_type": "stream",
     "text": [
      "Epoch 1/15\n",
      "\n",
      "Epoch 1: val_loss did not improve from 0.08212\n",
      "2500/2500 - 18s - loss: 0.0679 - accuracy: 0.9819 - val_loss: 0.1006 - val_accuracy: 0.9717 - 18s/epoch - 7ms/step\n",
      "Epoch 2/15\n",
      "\n",
      "Epoch 2: val_loss did not improve from 0.08212\n",
      "2500/2500 - 17s - loss: 0.0626 - accuracy: 0.9834 - val_loss: 0.0849 - val_accuracy: 0.9736 - 17s/epoch - 7ms/step\n",
      "Epoch 3/15\n",
      "\n",
      "Epoch 3: val_loss did not improve from 0.08212\n",
      "2500/2500 - 16s - loss: 0.0584 - accuracy: 0.9841 - val_loss: 0.0875 - val_accuracy: 0.9742 - 16s/epoch - 6ms/step\n",
      "Epoch 4/15\n",
      "\n",
      "Epoch 4: val_loss did not improve from 0.08212\n",
      "2500/2500 - 16s - loss: 0.0566 - accuracy: 0.9850 - val_loss: 0.0924 - val_accuracy: 0.9728 - 16s/epoch - 6ms/step\n",
      "Epoch 5/15\n",
      "\n",
      "Epoch 5: val_loss did not improve from 0.08212\n",
      "2500/2500 - 16s - loss: 0.0543 - accuracy: 0.9853 - val_loss: 0.0938 - val_accuracy: 0.9737 - 16s/epoch - 6ms/step\n",
      "Epoch 6/15\n",
      "\n",
      "Epoch 6: val_loss did not improve from 0.08212\n",
      "2500/2500 - 17s - loss: 0.0527 - accuracy: 0.9859 - val_loss: 0.0869 - val_accuracy: 0.9729 - 17s/epoch - 7ms/step\n",
      "Epoch 7/15\n",
      "\n",
      "Epoch 7: val_loss did not improve from 0.08212\n",
      "2500/2500 - 17s - loss: 0.0519 - accuracy: 0.9866 - val_loss: 0.1139 - val_accuracy: 0.9703 - 17s/epoch - 7ms/step\n",
      "Epoch 8/15\n",
      "\n",
      "Epoch 8: val_loss did not improve from 0.08212\n",
      "2500/2500 - 16s - loss: 0.0507 - accuracy: 0.9864 - val_loss: 0.0948 - val_accuracy: 0.9742 - 16s/epoch - 6ms/step\n",
      "Epoch 9/15\n",
      "\n",
      "Epoch 9: val_loss did not improve from 0.08212\n",
      "2500/2500 - 18s - loss: 0.0501 - accuracy: 0.9868 - val_loss: 0.1003 - val_accuracy: 0.9735 - 18s/epoch - 7ms/step\n",
      "Epoch 10/15\n",
      "\n",
      "Epoch 10: val_loss did not improve from 0.08212\n",
      "2500/2500 - 17s - loss: 0.0485 - accuracy: 0.9873 - val_loss: 0.0942 - val_accuracy: 0.9724 - 17s/epoch - 7ms/step\n",
      "Epoch 11/15\n",
      "\n",
      "Epoch 11: val_loss did not improve from 0.08212\n",
      "2500/2500 - 17s - loss: 0.0477 - accuracy: 0.9874 - val_loss: 0.0981 - val_accuracy: 0.9730 - 17s/epoch - 7ms/step\n",
      "Epoch 12/15\n",
      "\n",
      "Epoch 12: val_loss did not improve from 0.08212\n",
      "2500/2500 - 17s - loss: 0.0472 - accuracy: 0.9875 - val_loss: 0.0933 - val_accuracy: 0.9735 - 17s/epoch - 7ms/step\n",
      "Epoch 13/15\n",
      "\n",
      "Epoch 13: val_loss did not improve from 0.08212\n",
      "2500/2500 - 16s - loss: 0.0473 - accuracy: 0.9877 - val_loss: 0.1016 - val_accuracy: 0.9733 - 16s/epoch - 6ms/step\n",
      "Epoch 14/15\n",
      "\n",
      "Epoch 14: val_loss did not improve from 0.08212\n",
      "2500/2500 - 17s - loss: 0.0463 - accuracy: 0.9882 - val_loss: 0.0991 - val_accuracy: 0.9729 - 17s/epoch - 7ms/step\n",
      "Epoch 15/15\n",
      "\n",
      "Epoch 15: val_loss did not improve from 0.08212\n",
      "2500/2500 - 17s - loss: 0.0446 - accuracy: 0.9882 - val_loss: 0.0969 - val_accuracy: 0.9732 - 17s/epoch - 7ms/step\n"
     ]
    }
   ],
   "source": [
    "num_epochs = 15\n",
    "\n",
    "history = model.fit(train_padded, training_label_seq, epochs=num_epochs, validation_data=(validation_padded, validation_label_seq), class_weight=class_weights, callbacks=callbacks, verbose=2)"
   ]
  },
  {
   "cell_type": "code",
   "execution_count": null,
   "metadata": {
    "colab": {
     "base_uri": "https://localhost:8080/",
     "height": 541
    },
    "id": "1OLBm539QphB",
    "outputId": "a4d7e504-a52b-4f48-b790-b7a379d30ad5"
   },
   "outputs": [
    {
     "data": {
      "image/png": "[encoded data removed]",
      "text/plain": [
       "<Figure size 432x288 with 1 Axes>"
      ]
     },
     "metadata": {
      "needs_background": "light"
     },
     "output_type": "display_data"
    },
    {
     "data": {
      "image/png": "[encoded data removed]",
      "text/plain": [
       "<Figure size 432x288 with 1 Axes>"
      ]
     },
     "metadata": {
      "needs_background": "light"
     },
     "output_type": "display_data"
    }
   ],
   "source": [
    "plot_graphs(history, \"accuracy\")\n",
    "plot_graphs(history, \"loss\")"
   ]
  },
  {
   "cell_type": "markdown",
   "metadata": {
    "id": "EQZVWBxXAWj8"
   },
   "source": [
    "### Train model with complete train and validation data"
   ]
  },
  {
   "cell_type": "code",
   "execution_count": null,
   "metadata": {
    "colab": {
     "base_uri": "https://localhost:8080/"
    },
    "id": "Z6ld3ZsPAaX5",
    "outputId": "d0cd8cdc-b4cc-44dc-ecda-075a5b20a7aa"
   },
   "outputs": [
    {
     "name": "stdout",
     "output_type": "stream",
     "text": [
      "100000\n"
     ]
    }
   ],
   "source": [
    "train_seqs = token_list\n",
    "train_labels = labels\n",
    "\n",
    "tokenizer = Tokenizer(oov_token=oov_tok)\n",
    "tokenizer.fit_on_texts(train_seqs)\n",
    "word_index = tokenizer.word_index\n",
    "vocab_size = len(word_index) + 1\n",
    "\n",
    "train_sequences = tokenizer.texts_to_sequences(train_seqs)\n",
    "train_padded = pad_sequences(train_sequences, padding=padding_type)\n",
    "max_length = len(train_padded[0])\n",
    "\n",
    "le = LabelEncoder()\n",
    "le.fit(labels)\n",
    "label_seq = le.transform(labels)\n",
    "\n",
    "output = []\n",
    "for v in label_seq:\n",
    "    output.append([v])\n",
    "\n",
    "train_label_seq = np.array(output)\n",
    "print(len(train_label_seq))\n",
    "\n",
    "class_weights = generate_class_weights(label_seq)"
   ]
  },
  {
   "cell_type": "markdown",
   "metadata": {},
   "source": [
    "### model training"
   ]
  },
  {
   "cell_type": "code",
   "execution_count": null,
   "metadata": {
    "colab": {
     "base_uri": "https://localhost:8080/"
    },
    "id": "0fugsxQdCYHx",
    "outputId": "2261f6ee-2b15-45cb-bff1-81466bf90644"
   },
   "outputs": [
    {
     "name": "stdout",
     "output_type": "stream",
     "text": [
      "Epoch 1/2\n",
      "3125/3125 [==============================] - 35s 11ms/step - loss: 0.1578 - accuracy: 0.9477\n",
      "Epoch 2/2\n",
      "3125/3125 [==============================] - 34s 11ms/step - loss: 0.0986 - accuracy: 0.9714\n"
     ]
    }
   ],
   "source": [
    "num_epochs = 2\n",
    "history = model.fit(train_padded, train_label_seq, epochs=num_epochs, class_weight=class_weights)"
   ]
  },
  {
   "cell_type": "code",
   "execution_count": null,
   "metadata": {
    "colab": {
     "base_uri": "https://localhost:8080/",
     "height": 543
    },
    "id": "pgfz5j4SCotZ",
    "outputId": "1773823f-d3b5-4e5f-e08b-acde4c52a0a4"
   },
   "outputs": [
    {
     "data": {
      "image/png": "[encoded data removed]",
      "text/plain": [
       "<Figure size 432x288 with 1 Axes>"
      ]
     },
     "metadata": {
      "needs_background": "light"
     },
     "output_type": "display_data"
    },
    {
     "data": {
      "image/png": "[encoded data removed]",
      "text/plain": [
       "<Figure size 432x288 with 1 Axes>"
      ]
     },
     "metadata": {
      "needs_background": "light"
     },
     "output_type": "display_data"
    }
   ],
   "source": [
    "plot_graphs(history, \"accuracy\")\n",
    "plot_graphs(history, \"loss\")"
   ]
  },
  {
   "cell_type": "markdown",
   "metadata": {
    "id": "iRvpFEV97r0x"
   },
   "source": [
    "### Test prediction"
   ]
  },
  {
   "cell_type": "code",
   "execution_count": null,
   "metadata": {
    "id": "_QbMIQut7r36"
   },
   "outputs": [],
   "source": [
    "filename_test = 'test.csv'\n",
    "df = pd.read_csv(filename_test).fillna(\"None\")\n",
    "text = df['NARRATIVE']\n",
    "token_list = create_tokens(text)\n",
    "test_seqs = token_list\n",
    "test_sequences = tokenizer.texts_to_sequences(test_seqs)"
   ]
  },
  {
   "cell_type": "code",
   "execution_count": null,
   "metadata": {
    "colab": {
     "base_uri": "https://localhost:8080/"
    },
    "id": "LB1S3Z5SHqCd",
    "outputId": "677abc1a-b84b-4dc6-c948-9383309ea738"
   },
   "outputs": [
    {
     "name": "stdout",
     "output_type": "stream",
     "text": [
      "[0 1 0 ... 0 0 0]\n",
      "['BTFV' 'BURG' 'BTFV' ... 'BTFV' 'BTFV' 'BTFV']\n"
     ]
    }
   ],
   "source": [
    "test_padded = pad_sequences(test_sequences, padding=padding_type, maxlen=max_length)\n",
    "\n",
    "predictions = np.argmax(model.predict(test_padded), axis=1)\n",
    "print(predictions)\n",
    "\n",
    "test_seq_predictions = decode_labels(predictions, le)\n",
    "print(test_seq_predictions)"
   ]
  },
  {
   "cell_type": "code",
   "execution_count": null,
   "metadata": {
    "colab": {
     "base_uri": "https://localhost:8080/"
    },
    "id": "ynZFDT-oTSiT",
    "outputId": "d4ecd8f8-40f7-48d0-a1d9-4a8e0df47e3c"
   },
   "outputs": [
    {
     "name": "stdout",
     "output_type": "stream",
     "text": [
      "100000\n"
     ]
    }
   ],
   "source": [
    "print(len(test_seq_predictions))"
   ]
  },
  {
   "cell_type": "code",
   "execution_count": null,
   "metadata": {
    "id": "L6yAqDbHKCiU"
   },
   "outputs": [],
   "source": [
    "test_ids = get_seq_ids(filename_test)\n",
    "\n",
    "frames = [pd.DataFrame(test_ids), pd.DataFrame(test_seq_predictions)]\n",
    "output_data= np.concatenate(frames, axis=1)\n",
    "output_df = pd.DataFrame(output_data)\n",
    "output_df.to_csv('classify_reports_submission_word_embedding_nn3.csv', index=False,  header=[\"id\",\"CRIMETYPE\"])"
   ]
  }
 ],
 "metadata": {
  "accelerator": "GPU",
  "colab": {
   "collapsed_sections": [],
   "name": "classify_reports_word_embedding250_cnn.ipynb",
   "provenance": []
  },
  "kernelspec": {
   "display_name": "Python 3 (ipykernel)",
   "language": "python",
   "name": "python3"
  },
  "language_info": {
   "codemirror_mode": {
    "name": "ipython",
    "version": 3
   },
   "file_extension": ".py",
   "mimetype": "text/x-python",
   "name": "python",
   "nbconvert_exporter": "python",
   "pygments_lexer": "ipython3",
   "version": "3.9.7"
  }
 },
 "nbformat": 4,
 "nbformat_minor": 1
}
